{
 "cells": [
  {
   "cell_type": "code",
   "execution_count": 1,
   "metadata": {},
   "outputs": [
    {
     "name": "stderr",
     "output_type": "stream",
     "text": [
      "C:\\Users\\vylsm\\Miniconda3\\envs\\tpADS\\lib\\site-packages\\sklearn\\cross_validation.py:41: DeprecationWarning: This module was deprecated in version 0.18 in favor of the model_selection module into which all the refactored classes and functions are moved. Also note that the interface of the new CV iterators are different from that of this module. This module will be removed in 0.20.\n",
      "  \"This module will be removed in 0.20.\", DeprecationWarning)\n"
     ]
    }
   ],
   "source": [
    "import matplotlib.pyplot as plt\n",
    "from sklearn import datasets\n",
    "from sklearn.neighbors import KNeighborsClassifier\n",
    "import numpy as np\n",
    "from sklearn.cross_validation import train_test_split"
   ]
  },
  {
   "cell_type": "code",
   "execution_count": 57,
   "metadata": {
    "scrolled": true
   },
   "outputs": [
    {
     "name": "stdout",
     "output_type": "stream",
     "text": [
      "(540, 64)\n",
      "(1257, 64)\n"
     ]
    }
   ],
   "source": [
    "digits = datasets.load_digits()\n",
    "#print(digits)\n",
    "digits.images.shape\n",
    "X=digits.data\n",
    "y=digits.target\n",
    "X_train,X_test,y_train,y_test=train_test_split(X,y,test_size=0.3,random_state=1)\n",
    "print(X_test.shape)\n",
    "print(X_train.shape)"
   ]
  },
  {
   "cell_type": "code",
   "execution_count": 58,
   "metadata": {
    "scrolled": true
   },
   "outputs": [],
   "source": [
    "from sklearn.cross_validation import train_test_split\n",
    "from sklearn.svm import SVC"
   ]
  },
  {
   "cell_type": "code",
   "execution_count": 67,
   "metadata": {},
   "outputs": [],
   "source": [
    "def SVM(size):\n",
    "    X_reshape=X_train[0:size]\n",
    "    y_reshape=y_train[0:size]\n",
    "    clf = SVC(kernel='rbf',verbose=True)\n",
    "    #print(y_train)\n",
    "    #print(y_reshape)\n",
    "    clf.fit(X_reshape, y_reshape)\n",
    "    #print(X_test.shape)\n",
    "    sTrain =1.0-clf.score(X_reshape,y_reshape)\n",
    "    sTest = 1.0-clf.score(X_test,y_test)\n",
    "    del clf\n",
    "    print(sTest)\n",
    "    print('Strain')\n",
    "    print(sTrain)\n",
    "    return sTest,sTrain"
   ]
  },
  {
   "cell_type": "code",
   "execution_count": 68,
   "metadata": {},
   "outputs": [],
   "source": [
    "Taille=(10,25,50,100,150,200,250,375,500,750,1000,1257)"
   ]
  },
  {
   "cell_type": "code",
   "execution_count": 69,
   "metadata": {},
   "outputs": [],
   "source": [
    "score_Test=np.arange(float(len(Taille)))\n",
    "score_Train=np.arange(float(len(Taille)))"
   ]
  },
  {
   "cell_type": "code",
   "execution_count": 70,
   "metadata": {
    "scrolled": false
   },
   "outputs": [
    {
     "name": "stdout",
     "output_type": "stream",
     "text": [
      "[LibSVM]0.7444444444444445\n",
      "Strain\n",
      "0.0\n",
      "[LibSVM]0.8814814814814815\n",
      "Strain\n",
      "0.0\n",
      "[LibSVM]0.9092592592592592\n",
      "Strain\n",
      "0.0\n",
      "[LibSVM]0.8870370370370371\n",
      "Strain\n",
      "0.0\n",
      "[LibSVM]0.837037037037037\n",
      "Strain\n",
      "0.0\n",
      "[LibSVM]0.8592592592592593\n",
      "Strain\n",
      "0.0\n",
      "[LibSVM]0.825925925925926\n",
      "Strain\n",
      "0.0\n",
      "[LibSVM]0.8333333333333334\n",
      "Strain\n",
      "0.0\n",
      "[LibSVM]0.7574074074074074\n",
      "Strain\n",
      "0.0\n",
      "[LibSVM]0.6833333333333333\n",
      "Strain\n",
      "0.0\n",
      "[LibSVM]0.7074074074074075\n",
      "Strain\n",
      "0.0\n",
      "[LibSVM]0.6555555555555556\n",
      "Strain\n",
      "0.0\n"
     ]
    }
   ],
   "source": [
    "for i in range(len(Taille)):\n",
    "    [sTest,sTrain]=SVM(Taille[i])\n",
    "    score_Test[i]=sTest\n",
    "    score_Train[i]=sTrain\n",
    "    #print(\"score \\n\")\n",
    "    #print(score_Train)\n",
    "    #print(score_Test)"
   ]
  },
  {
   "cell_type": "code",
   "execution_count": 38,
   "metadata": {},
   "outputs": [
    {
     "data": {
      "image/png": "[encoded data removed]",
      "text/plain": [
       "<matplotlib.figure.Figure at 0x26538b64be0>"
      ]
     },
     "metadata": {},
     "output_type": "display_data"
    }
   ],
   "source": [
    "plt.plot(Taille,score_Test,color='red')\n",
    "plt.plot(Taille,score_Train)\n",
    "plt.show()"
   ]
  },
  {
   "cell_type": "code",
   "execution_count": null,
   "metadata": {},
   "outputs": [],
   "source": []
  }
 ],
 "metadata": {
  "kernelspec": {
   "display_name": "Python 3",
   "language": "python",
   "name": "python3"
  },
  "language_info": {
   "codemirror_mode": {
    "name": "ipython",
    "version": 3
   },
   "file_extension": ".py",
   "mimetype": "text/x-python",
   "name": "python",
   "nbconvert_exporter": "python",
   "pygments_lexer": "ipython3",
   "version": "3.5.4"
  }
 },
 "nbformat": 4,
 "nbformat_minor": 2
}
