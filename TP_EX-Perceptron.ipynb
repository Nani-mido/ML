{
 "cells": [
  {
   "cell_type": "code",
   "execution_count": 4,
   "metadata": {},
   "outputs": [
    {
     "name": "stderr",
     "output_type": "stream",
     "text": [
      "C:\\Users\\vylsm\\Miniconda3\\envs\\tpADS\\lib\\site-packages\\sklearn\\cross_validation.py:41: DeprecationWarning: This module was deprecated in version 0.18 in favor of the model_selection module into which all the refactored classes and functions are moved. Also note that the interface of the new CV iterators are different from that of this module. This module will be removed in 0.20.\n",
      "  \"This module will be removed in 0.20.\", DeprecationWarning)\n"
     ]
    }
   ],
   "source": [
    "import matplotlib.pyplot as plt\n",
    "from sklearn import datasets\n",
    "import numpy as np\n",
    "from sklearn.cross_validation import train_test_split\n",
    "import sklearn.datasets as ds\n",
    "from sklearn.linear_model import LinearRegression\n",
    "from sklearn.linear_model import LogisticRegression\n",
    "from sklearn.linear_model import Perceptron\n",
    "from sklearn.linear_model import Lasso"
   ]
  },
  {
   "cell_type": "code",
   "execution_count": 5,
   "metadata": {
    "scrolled": true
   },
   "outputs": [
    {
     "name": "stdout",
     "output_type": "stream",
     "text": [
      "(540, 64)\n",
      "(1257, 64)\n"
     ]
    }
   ],
   "source": [
    "digits = datasets.load_digits()\n",
    "digits.images.shape\n",
    "X=digits.data\n",
    "y=digits.target\n",
    "X_train,X_test,y_train,y_test=train_test_split(X,y,test_size=0.3)\n",
    "#print(X_test.shape)\n",
    "#print(X_train.shape)"
   ]
  },
  {
   "cell_type": "code",
   "execution_count": 34,
   "metadata": {},
   "outputs": [],
   "source": [
    "def AD(size):\n",
    "    X_reshape=X_train[0:size]\n",
    "    y_reshape=y_train[0:size]\n",
    "    clf = Perceptron()\n",
    "    clf = clf.fit(X_reshape,y_reshape)\n",
    "    #print(X_test.shape)\n",
    "    sTest = 1-clf.score(X_test,y_test)\n",
    "    sTrain =1-clf.score(X_reshape,y_reshape)\n",
    "    return sTest,sTrain"
   ]
  },
  {
   "cell_type": "code",
   "execution_count": 35,
   "metadata": {},
   "outputs": [],
   "source": [
    "Taille=(10,15,25,35,50,75,100,150,200,250,375,500,750,1000,1257)"
   ]
  },
  {
   "cell_type": "code",
   "execution_count": 36,
   "metadata": {},
   "outputs": [],
   "source": [
    "score_Test=np.arange(float(len(Taille)))\n",
    "score_Train=np.arange(float(len(Taille)))"
   ]
  },
  {
   "cell_type": "code",
   "execution_count": 37,
   "metadata": {},
   "outputs": [
    {
     "name": "stderr",
     "output_type": "stream",
     "text": [
      "C:\\Users\\vylsm\\Miniconda3\\envs\\tpADS\\lib\\site-packages\\sklearn\\linear_model\\stochastic_gradient.py:128: FutureWarning: max_iter and tol parameters have been added in <class 'sklearn.linear_model.perceptron.Perceptron'> in 0.19. If both are left unset, they default to max_iter=5 and tol=None. If tol is not None, max_iter defaults to max_iter=1000. From 0.21, default max_iter will be 1000, and default tol will be 1e-3.\n",
      "  \"and default tol will be 1e-3.\" % type(self), FutureWarning)\n"
     ]
    }
   ],
   "source": [
    "for k in range(len(Taille)):\n",
    "    score_Test[k]=0\n",
    "    score_Train[k] = 0\n",
    "for j in range(10):   \n",
    "    X_train,X_test,y_train,y_test=train_test_split(X,y,test_size=0.3)\n",
    "    for i in range(len(Taille)):\n",
    "        [sTest,sTrain]=AD(Taille[i])\n",
    "        score_Test[i]+=sTest\n",
    "        score_Train[i]+=sTrain\n",
    "        #print(\"score \\n\")\n",
    "        #print(score_Train)\n",
    "        #print(score_Test)\n",
    "for u in range(len(Taille)):\n",
    "    score_Test[u] = score_Test[u]/10\n",
    "    score_Train[u] = score_Train[u]/10"
   ]
  },
  {
   "cell_type": "code",
   "execution_count": 38,
   "metadata": {},
   "outputs": [
    {
     "data": {
      "image/png": "[encoded data removed]",
      "text/plain": [
       "<matplotlib.figure.Figure at 0x25f360c7278>"
      ]
     },
     "metadata": {},
     "output_type": "display_data"
    }
   ],
   "source": [
    "plt.plot(Taille,score_Test,color='red')\n",
    "plt.plot(Taille,score_Train)\n",
    "plt.show()"
   ]
  },
  {
   "cell_type": "code",
   "execution_count": null,
   "metadata": {},
   "outputs": [],
   "source": []
  }
 ],
 "metadata": {
  "kernelspec": {
   "display_name": "Python 3",
   "language": "python",
   "name": "python3"
  },
  "language_info": {
   "codemirror_mode": {
    "name": "ipython",
    "version": 3
   },
   "file_extension": ".py",
   "mimetype": "text/x-python",
   "name": "python",
   "nbconvert_exporter": "python",
   "pygments_lexer": "ipython3",
   "version": "3.5.4"
  }
 },
 "nbformat": 4,
 "nbformat_minor": 2
}
